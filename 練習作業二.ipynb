{
 "cells": [
  {
   "cell_type": "code",
   "execution_count": 11,
   "id": "bbcdf789",
   "metadata": {},
   "outputs": [
    {
     "name": "stdout",
     "output_type": "stream",
     "text": [
      "------------------------------------------------------\n",
      "apples oranges cherries banana \n",
      " Alice     Bob    Carol  David \n",
      "  dogs    cats    moose  goose \n",
      "------------------------------------------------------\n"
     ]
    }
   ],
   "source": [
    "tableData =[['apples', 'oranges', 'cherries', 'banana'],\n",
    "            ['Alice', 'Bob', 'Carol', 'David'],\n",
    "            ['dogs', 'cats', 'moose', 'goose']]\n",
    "              \n",
    "              \n",
    "def printTable(tableData):\n",
    "    if not tableData:\n",
    "        print(\"Empty table\")\n",
    "        return\n",
    "              \n",
    "    d= [max(len(str(w[i]))for w in tableData)for i in range(len(tableData[0]))]\n",
    "    print(\"-\"*(sum(d)*2))\n",
    "              \n",
    "    for w in tableData:\n",
    "        for i in range(len(w)):\n",
    "            print(f\"{str(w[i]).rjust(d[i])}\",end=' ')\n",
    "        print()\n",
    "                           \n",
    "    print (\"-\"*(sum(d)*2))\n",
    "printTable (tableData)"
   ]
  },
  {
   "cell_type": "code",
   "execution_count": null,
   "id": "0c571451",
   "metadata": {},
   "outputs": [],
   "source": []
  }
 ],
 "metadata": {
  "kernelspec": {
   "display_name": "Python 3 (ipykernel)",
   "language": "python",
   "name": "python3"
  },
  "language_info": {
   "codemirror_mode": {
    "name": "ipython",
    "version": 3
   },
   "file_extension": ".py",
   "mimetype": "text/x-python",
   "name": "python",
   "nbconvert_exporter": "python",
   "pygments_lexer": "ipython3",
   "version": "3.11.4"
  }
 },
 "nbformat": 4,
 "nbformat_minor": 5
}
